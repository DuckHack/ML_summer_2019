{
 "cells": [
  {
   "cell_type": "markdown",
   "metadata": {},
   "source": [
    "# Exercises\n",
    "\n",
    "In this section we have two exercises:\n",
    "1. Implement the polynomial kernel.\n",
    "2. Implement the multiclass C-SVM."
   ]
  },
  {
   "cell_type": "markdown",
   "metadata": {},
   "source": [
    "## Polynomial kernel\n",
    "\n",
    "You need to extend the ``build_kernel`` function and implement the polynomial kernel if the ``kernel_type`` is set to 'poly'. The equation that needs to be implemented:\n",
    "\\begin{equation}\n",
    "K=(X^{T}*Y)^{d}.\n",
    "\\end{equation}"
   ]
  },
  {
   "cell_type": "code",
   "execution_count": 115,
   "metadata": {},
   "outputs": [],
   "source": [
    "from sklearn.metrics.pairwise import polynomial_kernel as pk\n",
    "from sklearn.metrics.pairwise import check_pairwise_arrays\n",
    "from sklearn.datasets import load_iris\n",
    "import numpy as np\n",
    "from sklearn.model_selection import train_test_split\n",
    "import cvxopt\n",
    "from sklearn.utils.extmath import safe_sparse_dot\n",
    "\n",
    "iris = load_iris()\n",
    "data_set = iris.data\n",
    "labels = iris.target\n",
    "objects_count = len(train_labels)"
   ]
  },
  {
   "cell_type": "code",
   "execution_count": 116,
   "metadata": {},
   "outputs": [],
   "source": [
    "def build_kernel(data_set, kernel_type='linear'):\n",
    "    kernel = np.dot(data_set, data_set.T)\n",
    "    if kernel_type == 'rbf':\n",
    "        sigma = 1.0\n",
    "        objects_count = len(data_set)\n",
    "        b = np.ones((len(data_set), 1))\n",
    "        kernel -= 0.5 * (np.dot((np.diag(kernel)*np.ones((1, objects_count))).T, b.T)\n",
    "                         + np.dot(b, (np.diag(kernel) * np.ones((1, objects_count))).T.T))\n",
    "        kernel = np.exp(kernel / (2. * sigma ** 2))\n",
    "    elif kernel_type == 'poly':\n",
    "        d=2\n",
    "        X = data_set\n",
    "        coef0 = 1\n",
    "        \n",
    "        gamma = 1.0 / X.shape[1]\n",
    "        kernel = np.dot(X, X.T)\n",
    "        kernel *= gamma\n",
    "        kernel += coef0\n",
    "        kernel **= d\n",
    "        #pass # put your code here\n",
    "    return kernel"
   ]
  },
  {
   "cell_type": "markdown",
   "metadata": {},
   "source": [
    "## Implement a multiclass C-SVM\n",
    "\n",
    "Use the classification method that we used in notebook 7.3 and IRIS dataset to build a multiclass C-SVM classifier. Most implementation is about a function that will return the proper data set that need to be used for the prediction. You need to implement:\n",
    "- ``choose_set_for_label``\n",
    "- ``get_labels_count``"
   ]
  },
  {
   "cell_type": "code",
   "execution_count": 117,
   "metadata": {},
   "outputs": [],
   "source": [
    "def choose_set_for_label(data_set, label):\n",
    "    train_data_set, test_data_set, train_labels, test_labels = train_test_split(\n",
    "    data_set, labels, test_size=0.2, random_state=15)\n",
    "\n",
    "    train_labels[train_labels!=label] = -1\n",
    "    test_labels[test_labels!=label] = -1\n",
    "\n",
    "    train_labels[train_labels==label] = 1\n",
    "    test_labels[test_labels==label] = 1\n",
    "    return train_data_set, test_data_set, train_labels, test_labels"
   ]
  },
  {
   "cell_type": "code",
   "execution_count": 118,
   "metadata": {},
   "outputs": [],
   "source": [
    "def get_labels_count(data_set):\n",
    "    return len(data_set)"
   ]
  },
  {
   "cell_type": "code",
   "execution_count": 119,
   "metadata": {},
   "outputs": [],
   "source": [
    "#Use the code that we have implemented earlier:"
   ]
  },
  {
   "cell_type": "code",
   "execution_count": 120,
   "metadata": {},
   "outputs": [],
   "source": [
    "def train(train_data_set, train_labels, kernel_type='linear', C=10, threshold=1e-5):\n",
    "    objects_count = get_labels_count(train_data_set)\n",
    "    kernel = build_kernel(train_data_set, kernel_type=kernel_type)\n",
    "\n",
    "    P = train_labels * train_labels.transpose() * kernel\n",
    "    q = -np.ones((objects_count, 1))\n",
    "    G = np.concatenate((np.eye(objects_count), -np.eye(objects_count)))\n",
    "    h = np.concatenate((C * np.ones((objects_count, 1)), np.zeros((objects_count, 1))))\n",
    "\n",
    "    A = train_labels.reshape(1, objects_count)\n",
    "    A = A.astype(float)\n",
    "    b = 0.0\n",
    "\n",
    "    sol = cvxopt.solvers.qp(cvxopt.matrix(P), cvxopt.matrix(q), cvxopt.matrix(G), cvxopt.matrix(h), cvxopt.matrix(A), cvxopt.matrix(b))\n",
    "\n",
    "    lambdas = np.array(sol['x'])\n",
    "\n",
    "    support_vectors_id = np.where(lambdas > threshold)[0]\n",
    "    vector_number = len(support_vectors_id)\n",
    "    support_vectors = train_data_set[support_vectors_id, :]\n",
    "\n",
    "    lambdas = lambdas[support_vectors_id]\n",
    "    targets = train_labels[support_vectors_id]\n",
    "\n",
    "    b = np.sum(targets)\n",
    "    for n in range(vector_number):\n",
    "        b -= np.sum(lambdas * targets * np.reshape(kernel[support_vectors_id[n], support_vectors_id], (vector_number, 1)))\n",
    "    b /= len(lambdas)\n",
    "\n",
    "    return lambdas, support_vectors, support_vectors_id, b, targets, vector_number\n",
    "\n",
    "def classify_rbf(test_data_set, train_data_set, lambdas, targets, b, vector_number, support_vectors, support_vectors_id):\n",
    "    kernel = np.dot(test_data_set, support_vectors.T)\n",
    "    sigma = 1.0\n",
    "    #K = np.dot(test_data_set, support_vectors.T)\n",
    "    #kernel = build_kernel(train_data_set, kernel_type='rbf')\n",
    "    c = (1. / sigma * np.sum(test_data_set ** 2, axis=1) * np.ones((1, np.shape(test_data_set)[0]))).T\n",
    "    c = np.dot(c, np.ones((1, np.shape(kernel)[1])))\n",
    "    #aa = np.dot((np.diag(K)*np.ones((1,len(test_data_set)))).T[support_vectors_id], np.ones((1, np.shape(K)[0]))).T\n",
    "    sv = (np.diag(np.dot(train_data_set, train_data_set.T))*np.ones((1,len(train_data_set)))).T[support_vectors_id]\n",
    "    aa = np.dot(sv,np.ones((1,np.shape(kernel)[0]))).T\n",
    "    kernel = kernel - 0.5 * c - 0.5 * aa\n",
    "    kernel = np.exp(kernel / (2. * sigma ** 2))\n",
    "\n",
    "    y = np.zeros((np.shape(test_data_set)[0], 1))\n",
    "    for j in range(np.shape(test_data_set)[0]):\n",
    "        for i in range(vector_number):\n",
    "            y[j] += lambdas[i] * targets[i] * kernel[j, i]\n",
    "        y[j] += b\n",
    "    return np.sign(y)"
   ]
  },
  {
   "cell_type": "code",
   "execution_count": 121,
   "metadata": {},
   "outputs": [],
   "source": [
    "LABEL = 0"
   ]
  },
  {
   "cell_type": "code",
   "execution_count": 122,
   "metadata": {},
   "outputs": [
    {
     "name": "stdout",
     "output_type": "stream",
     "text": [
      "     pcost       dcost       gap    pres   dres\n",
      " 0:  1.1726e+02 -1.7992e+03  4e+03  2e-01  2e-15\n",
      " 1:  7.7967e+01 -1.6973e+02  3e+02  5e-03  2e-15\n",
      " 2:  1.0169e+01 -2.2323e+01  3e+01  4e-16  3e-15\n",
      " 3: -4.9607e-01 -4.9938e+00  4e+00  3e-16  2e-15\n",
      " 4: -1.4344e+00 -2.5218e+00  1e+00  2e-16  5e-16\n",
      " 5: -1.6897e+00 -2.1674e+00  5e-01  7e-16  3e-16\n",
      " 6: -1.8078e+00 -2.0073e+00  2e-01  4e-16  2e-16\n",
      " 7: -1.8464e+00 -1.9763e+00  1e-01  2e-16  2e-16\n",
      " 8: -1.8825e+00 -1.9020e+00  2e-02  2e-16  2e-16\n",
      " 9: -1.8902e+00 -1.8906e+00  4e-04  2e-16  2e-16\n",
      "10: -1.8904e+00 -1.8904e+00  5e-06  5e-16  2e-16\n",
      "11: -1.8904e+00 -1.8904e+00  5e-08  6e-16  3e-16\n",
      "Optimal solution found.\n",
      "0.26666666666666666\n"
     ]
    }
   ],
   "source": [
    "# modify this part \n",
    "train_data_set, test_data_set, train_labels, test_labels = choose_set_for_label(data_set, LABEL)\n",
    "\n",
    "lambdas, support_vectors, support_vectors_id, b, targets, vector_number = train(train_data_set, train_labels, kernel_type='rbf')\n",
    "predicted = classify_rbf(test_data_set, train_data_set, lambdas, targets, b, vector_number, support_vectors, support_vectors_id)\n",
    "predicted = list(predicted.astype(int))\n",
    "\n",
    "from sklearn.metrics import accuracy_score\n",
    "\n",
    "print(accuracy_score(predicted, test_labels))"
   ]
  },
  {
   "cell_type": "code",
   "execution_count": 125,
   "metadata": {},
   "outputs": [
    {
     "name": "stdout",
     "output_type": "stream",
     "text": [
      "     pcost       dcost       gap    pres   dres\n",
      " 0: -3.3341e+00 -2.9597e+03  7e+03  3e-01  4e-14\n",
      " 1:  1.6979e+00 -2.2614e+02  4e+02  1e-02  4e-14\n",
      " 2:  1.3388e+00 -4.2016e+00  7e+00  1e-04  8e-15\n",
      " 3:  2.4861e-01 -4.0053e-01  7e-01  8e-07  4e-15\n",
      " 4:  1.6637e-02 -7.5931e-02  9e-02  2e-16  3e-15\n",
      " 5: -9.2499e-03 -2.0822e-02  1e-02  2e-16  1e-15\n",
      " 6: -1.1198e-02 -1.5948e-02  5e-03  2e-16  5e-16\n",
      " 7: -1.2340e-02 -1.6353e-02  4e-03  2e-16  3e-16\n",
      " 8: -1.4778e-02 -1.5378e-02  6e-04  2e-16  3e-16\n",
      " 9: -1.4977e-02 -1.5004e-02  3e-05  2e-16  3e-16\n",
      "10: -1.4987e-02 -1.4987e-02  7e-07  2e-16  3e-16\n",
      "11: -1.4987e-02 -1.4987e-02  8e-09  2e-16  3e-16\n",
      "Optimal solution found.\n",
      "0.7333333333333333\n"
     ]
    }
   ],
   "source": [
    "# modify this part \n",
    "train_data_set, test_data_set, train_labels, test_labels = choose_set_for_label(data_set, LABEL)\n",
    "\n",
    "lambdas, support_vectors, support_vectors_id, b, targets, vector_number = train(train_data_set, train_labels, kernel_type='linear')\n",
    "predicted = classify_rbf(test_data_set, train_data_set, lambdas, targets, b, vector_number, support_vectors, support_vectors_id)\n",
    "predicted = list(predicted.astype(int))\n",
    "\n",
    "from sklearn.metrics import accuracy_score\n",
    "\n",
    "print(accuracy_score(predicted, test_labels))"
   ]
  },
  {
   "cell_type": "code",
   "execution_count": 126,
   "metadata": {},
   "outputs": [
    {
     "name": "stdout",
     "output_type": "stream",
     "text": [
      "     pcost       dcost       gap    pres   dres\n",
      " 0:  4.9630e+00 -1.5176e+03  3e+03  2e-01  4e-14\n",
      " 1:  2.5701e+00 -1.6725e+02  3e+02  2e-02  4e-14\n",
      " 2:  4.6951e-01 -1.9250e+01  4e+01  2e-03  2e-14\n",
      " 3:  2.5910e-01 -8.6857e-01  1e+00  3e-05  1e-14\n",
      " 4:  4.8658e-02 -8.5798e-02  1e-01  2e-07  5e-15\n",
      " 5:  1.8470e-03 -1.7098e-02  2e-02  2e-16  3e-15\n",
      " 6: -3.1145e-03 -6.3231e-03  3e-03  2e-16  9e-16\n",
      " 7: -4.2480e-03 -6.3191e-03  2e-03  2e-16  5e-16\n",
      " 8: -5.4103e-03 -5.9788e-03  6e-04  2e-16  5e-16\n",
      " 9: -5.6081e-03 -5.6193e-03  1e-05  2e-16  6e-16\n",
      "10: -5.6123e-03 -5.6125e-03  2e-07  2e-16  6e-16\n",
      "11: -5.6124e-03 -5.6124e-03  2e-09  2e-16  7e-16\n",
      "Optimal solution found.\n",
      "0.7333333333333333\n"
     ]
    }
   ],
   "source": [
    "# modify this part \n",
    "train_data_set, test_data_set, train_labels, test_labels = choose_set_for_label(data_set, LABEL)\n",
    "\n",
    "lambdas, support_vectors, support_vectors_id, b, targets, vector_number = train(train_data_set, train_labels, kernel_type='poly')\n",
    "predicted = classify_rbf(test_data_set, train_data_set, lambdas, targets, b, vector_number, support_vectors, support_vectors_id)\n",
    "predicted = list(predicted.astype(int))\n",
    "\n",
    "from sklearn.metrics import accuracy_score\n",
    "\n",
    "print(accuracy_score(predicted, test_labels))"
   ]
  },
  {
   "cell_type": "code",
   "execution_count": null,
   "metadata": {},
   "outputs": [],
   "source": []
  }
 ],
 "metadata": {
  "kernelspec": {
   "display_name": "Python 3",
   "language": "python",
   "name": "python3"
  },
  "language_info": {
   "codemirror_mode": {
    "name": "ipython",
    "version": 3
   },
   "file_extension": ".py",
   "mimetype": "text/x-python",
   "name": "python",
   "nbconvert_exporter": "python",
   "pygments_lexer": "ipython3",
   "version": "3.7.3"
  }
 },
 "nbformat": 4,
 "nbformat_minor": 2
}
