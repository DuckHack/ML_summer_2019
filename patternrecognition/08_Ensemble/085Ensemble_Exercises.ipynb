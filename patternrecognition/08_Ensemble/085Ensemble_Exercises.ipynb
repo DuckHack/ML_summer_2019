{
 "cells": [
  {
   "cell_type": "markdown",
   "metadata": {},
   "source": [
    "# Ensemble methods. Exercises\n",
    "\n",
    "\n",
    "In this section we have only one exercise:\n",
    "\n",
    "1. Find the best three classifier in the stacking method using the classifiers from scikit-learn package, such as:\n",
    "\n",
    "\n",
    "* Linear regression,\n",
    "* Nearest Neighbors,\n",
    "* Linear SVM,\n",
    "* Decision Tree,\n",
    "* Naive Bayes,\n",
    "* QDA."
   ]
  },
  {
   "cell_type": "code",
   "execution_count": 1,
   "metadata": {},
   "outputs": [],
   "source": [
    "%store -r data_set\n",
    "%store -r labels\n",
    "%store -r test_data_set\n",
    "%store -r test_labels\n",
    "%store -r unique_labels"
   ]
  },
  {
   "cell_type": "markdown",
   "metadata": {},
   "source": [
    "## Exercise 1: Find the best three classifier in the stacking method"
   ]
  },
  {
   "cell_type": "code",
   "execution_count": 14,
   "metadata": {},
   "outputs": [],
   "source": [
    "import numpy as np\n",
    "import matplotlib.pyplot as plt\n",
    "from sklearn.metrics import accuracy_score\n",
    "\n",
    "from sklearn.linear_model import LinearRegression\n",
    "from sklearn.neighbors import KNeighborsClassifier\n",
    "from sklearn.svm import SVC\n",
    "from sklearn.tree import DecisionTreeClassifier\n",
    "from sklearn.naive_bayes import GaussianNB\n",
    "from sklearn.discriminant_analysis import QuadraticDiscriminantAnalysis"
   ]
  },
  {
   "cell_type": "code",
   "execution_count": 15,
   "metadata": {},
   "outputs": [],
   "source": [
    "used_cl_list = [KNeighborsClassifier, DecisionTreeClassifier, GaussianNB, QuadraticDiscriminantAnalysis, SVC, LinearRegression]\n",
    "def build_classifiers():\n",
    "    classifiers = []\n",
    "    classifiers.append(KNeighborsClassifier())\n",
    "    classifiers.append(DecisionTreeClassifier())\n",
    "    classifiers.append(GaussianNB())\n",
    "    classifiers.append(QuadraticDiscriminantAnalysis())\n",
    "    classifiers.append(SVC(gamma='auto'))\n",
    "    classifiers.append(LinearRegression())\n",
    "    return classifiers\n",
    "    #return [classifier() for classifier in used_cl_list]"
   ]
  },
  {
   "cell_type": "code",
   "execution_count": 16,
   "metadata": {},
   "outputs": [],
   "source": [
    "def build_stacked_classifier(classifiers, st_cl):\n",
    "    output = []\n",
    "    fitted_classifiers = [cl.fit(data_set, labels) for cl in classifiers]\n",
    "    for classifier in fitted_classifiers:\n",
    "        output.append(classifier.predict(data_set))\n",
    "    output = np.array(output).reshape((130,len(classifiers)))\n",
    "    \n",
    "    stacked_classifier = st_cl\n",
    "    stacked_classifier.fit(output.reshape((130,len(classifiers))), labels.reshape((130,)))\n",
    "    test_set = []\n",
    "    for classifier in fitted_classifiers:\n",
    "        test_set.append(classifier.predict(test_data_set))\n",
    "    test_set = np.array(test_set).reshape((len(test_set[0]),len(classifiers)))\n",
    "    predicted = stacked_classifier.predict(test_set)\n",
    "    #if stacked_classifier.__class__.__name__ == 'LinearRegression':\n",
    "    #print('stacked classifier name: ', st_cl.__class__.__name__)\n",
    "        #print('predicted:\\n', predicted, '\\n')\n",
    "    return predicted"
   ]
  },
  {
   "cell_type": "code",
   "execution_count": 5,
   "metadata": {},
   "outputs": [
    {
     "name": "stdout",
     "output_type": "stream",
     "text": [
      "50\n"
     ]
    },
    {
     "name": "stderr",
     "output_type": "stream",
     "text": [
      "C:\\MyFiles\\anaconda\\lib\\site-packages\\sklearn\\discriminant_analysis.py:692: UserWarning: Variables are collinear\n",
      "  warnings.warn(\"Variables are collinear\")\n",
      "C:\\MyFiles\\anaconda\\lib\\site-packages\\sklearn\\discriminant_analysis.py:692: UserWarning: Variables are collinear\n",
      "  warnings.warn(\"Variables are collinear\")\n",
      "C:\\MyFiles\\anaconda\\lib\\site-packages\\sklearn\\discriminant_analysis.py:692: UserWarning: Variables are collinear\n",
      "  warnings.warn(\"Variables are collinear\")\n",
      "C:\\MyFiles\\anaconda\\lib\\site-packages\\sklearn\\discriminant_analysis.py:692: UserWarning: Variables are collinear\n",
      "  warnings.warn(\"Variables are collinear\")\n"
     ]
    }
   ],
   "source": [
    "predicted = []\n",
    "classifiers = build_classifiers()\n",
    "classifiers_batches = []\n",
    "for fst_idx in range(len(used_cl_list)):\n",
    "    for scd_idx in range(len(used_cl_list)):\n",
    "        if scd_idx < fst_idx:\n",
    "            continue\n",
    "        for thd_idx in range(len(used_cl_list)):\n",
    "            if fst_idx == scd_idx or scd_idx == thd_idx or thd_idx == fst_idx or classifiers[thd_idx].__class__.__name__ == 'LinearRegression':\n",
    "                continue\n",
    "            classifiers_batches.append([classifiers[fst_idx], classifiers[scd_idx], classifiers[thd_idx]])\n",
    "print( len(classifiers_batches) )\n",
    "\n",
    "for batch in classifiers_batches:\n",
    "    predicted.append(build_stacked_classifier(batch[:-1], batch[-1]))"
   ]
  },
  {
   "cell_type": "code",
   "execution_count": 6,
   "metadata": {},
   "outputs": [
    {
     "name": "stdout",
     "output_type": "stream",
     "text": [
      "Accuracy ->  1.0  for classifiers batch ->  KNeighborsClassifier   DecisionTreeClassifier   GaussianNB\n",
      "Accuracy ->  1.0  for classifiers batch ->  KNeighborsClassifier   DecisionTreeClassifier   QuadraticDiscriminantAnalysis\n",
      "Accuracy ->  1.0  for classifiers batch ->  KNeighborsClassifier   GaussianNB   SVC\n",
      "Accuracy ->  1.0  for classifiers batch ->  KNeighborsClassifier   QuadraticDiscriminantAnalysis   GaussianNB\n",
      "Accuracy ->  1.0  for classifiers batch ->  KNeighborsClassifier   QuadraticDiscriminantAnalysis   SVC\n",
      "Accuracy ->  1.0  for classifiers batch ->  KNeighborsClassifier   SVC   GaussianNB\n",
      "Accuracy ->  1.0  for classifiers batch ->  KNeighborsClassifier   LinearRegression   GaussianNB\n",
      "Accuracy ->  1.0  for classifiers batch ->  DecisionTreeClassifier   QuadraticDiscriminantAnalysis   GaussianNB\n",
      "Accuracy ->  1.0  for classifiers batch ->  DecisionTreeClassifier   QuadraticDiscriminantAnalysis   SVC\n",
      "Accuracy ->  1.0  for classifiers batch ->  DecisionTreeClassifier   SVC   GaussianNB\n",
      "Accuracy ->  1.0  for classifiers batch ->  GaussianNB   QuadraticDiscriminantAnalysis   SVC\n",
      "Accuracy ->  1.0  for classifiers batch ->  QuadraticDiscriminantAnalysis   SVC   GaussianNB\n",
      "Accuracy ->  1.0  for classifiers batch ->  QuadraticDiscriminantAnalysis   LinearRegression   GaussianNB\n"
     ]
    }
   ],
   "source": [
    "accuracy = accuracy_score(test_labels, predicted[0])\n",
    "accuracies_list = [accuracy_score(test_labels, prediction) for prediction in predicted]\n",
    "for idx, acc in enumerate(accuracies_list):\n",
    "    if acc == np.max(accuracies_list):\n",
    "        fst_cl_name = classifiers_batches[idx][0].__class__.__name__\n",
    "        scd_cl_name = classifiers_batches[idx][1].__class__.__name__\n",
    "        thd_cl_name = classifiers_batches[idx][2].__class__.__name__\n",
    "        print('Accuracy -> ', acc, ' for classifiers batch -> ', fst_cl_name,' ',scd_cl_name,' ', thd_cl_name)"
   ]
  },
  {
   "cell_type": "markdown",
   "metadata": {},
   "source": [
    "## Exercise 2: \n",
    "\n",
    "Use the boosting method and change the code to fullfilt the following requirements:\n",
    "\n",
    "* the weights should be calculated as:\n",
    "$w_{n}^{(t+1)}=\\frac{1+ I(y_{n}\\neq h_{t}(x_{n}))}{\\sum_{i=1}^{N}1+I(y_{n}\\neq h_{t}(x_{n}))}$,\n",
    "* the prediction is done with a voting method."
   ]
  },
  {
   "cell_type": "code",
   "execution_count": 2,
   "metadata": {},
   "outputs": [],
   "source": [
    "import numpy as np\n",
    "from sklearn.tree import DecisionTreeClassifier\n",
    "\n",
    "# prepare data set\n",
    "#I - calculate the accuracy vector\n",
    "\n",
    "def generate_data(sample_number, feature_number, label_number):\n",
    "    data_set = np.random.random_sample((sample_number, feature_number))\n",
    "    labels = np.random.choice(label_number, sample_number)\n",
    "    return data_set, labels\n",
    "\n",
    "labels = 2\n",
    "dimension = 2\n",
    "test_set_size = 1000\n",
    "train_set_size = 5000\n",
    "train_set, train_labels = generate_data(train_set_size, dimension, labels)\n",
    "test_set, test_labels = generate_data(test_set_size, dimension, labels)\n",
    "\n",
    "# init weights\n",
    "number_of_iterations = 10\n",
    "weights = np.ones((test_set_size,)) / test_set_size\n",
    "\n",
    "\n",
    "def train_model(classifier, weights):\n",
    "    return classifier.fit(X=test_set, y=test_labels, sample_weight=weights)\n",
    "\n",
    "def calculate_error(model):\n",
    "    predicted = model.predict(test_set)\n",
    "    I=calculate_accuracy_vector(predicted, test_labels)\n",
    "    Z=np.sum(I)\n",
    "    return (1+Z)/1.0\n",
    "\n",
    "def calculate_accuracy_vector(predicted, test_labels):\n",
    "    I = np.zeros(len(test_labels))\n",
    "    for idx, prediction in enumerate(predicted):\n",
    "        if prediction == test_labels[idx]:\n",
    "            I[idx] = 1\n",
    "    return I "
   ]
  },
  {
   "cell_type": "markdown",
   "metadata": {},
   "source": [
    "Fill the two functions below:"
   ]
  },
  {
   "cell_type": "code",
   "execution_count": 4,
   "metadata": {},
   "outputs": [],
   "source": [
    "def set_new_weights(model):\n",
    "    predicted = model.predict(test_set)\n",
    "    return (np.ones(test_set_size)+calculate_accuracy_vector(predicted,test_labels))/sum(np.ones(test_set_size)+calculate_accuracy_vector(predicted,test_labels))"
   ]
  },
  {
   "cell_type": "markdown",
   "metadata": {},
   "source": [
    "Train the classifier with the code below:"
   ]
  },
  {
   "cell_type": "code",
   "execution_count": 5,
   "metadata": {},
   "outputs": [],
   "source": [
    "classifier = DecisionTreeClassifier(max_depth=1, random_state=1)\n",
    "classifier.fit(X=test_set, y=test_labels)\n",
    "alphas = []\n",
    "classifiers = []\n",
    "for iteration in range(number_of_iterations):\n",
    "    model = train_model(classifier, weights)\n",
    "    weights = set_new_weights(model)\n",
    "    classifiers.append(model)\n"
   ]
  },
  {
   "cell_type": "code",
   "execution_count": 6,
   "metadata": {},
   "outputs": [],
   "source": [
    "#calculate_error(train_model(classifier, weights))"
   ]
  },
  {
   "cell_type": "markdown",
   "metadata": {},
   "source": [
    "Set the validation data set:"
   ]
  },
  {
   "cell_type": "code",
   "execution_count": 8,
   "metadata": {},
   "outputs": [],
   "source": [
    "validate_x, validate_label = generate_data(1, dimension, labels)"
   ]
  },
  {
   "cell_type": "markdown",
   "metadata": {},
   "source": [
    "Fill the prediction code:"
   ]
  },
  {
   "cell_type": "code",
   "execution_count": 9,
   "metadata": {},
   "outputs": [],
   "source": [
    "def get_prediction(x):\n",
    "    prediction_matrix = [classifier.predict(x) for classifier in classifiers] \n",
    "    if sum(prediction_matrix) <= number_of_iterations/2:\n",
    "        return 0\n",
    "    else:\n",
    "        return 1"
   ]
  },
  {
   "cell_type": "markdown",
   "metadata": {},
   "source": [
    "Test it:"
   ]
  },
  {
   "cell_type": "code",
   "execution_count": 18,
   "metadata": {},
   "outputs": [
    {
     "name": "stdout",
     "output_type": "stream",
     "text": [
      "[0.45, 0.7, 0.45, 0.55, 0.65, 0.4, 0.75, 0.5, 0.45, 0.5, 0.5, 0.75, 0.4, 0.45, 0.35, 0.45, 0.5, 0.5, 0.6, 0.25, 0.5, 0.55, 0.45, 0.6, 0.5, 0.65, 0.6, 0.55, 0.55, 0.5, 0.5, 0.55, 0.55, 0.4, 0.6, 0.4, 0.35, 0.65, 0.75, 0.45, 0.4, 0.45, 0.75, 0.35, 0.5, 0.55, 0.45, 0.6, 0.45, 0.65, 0.45, 0.25, 0.5, 0.4, 0.7, 0.45, 0.5, 0.55, 0.6, 0.3, 0.55, 0.45, 0.6, 0.45, 0.4, 0.7, 0.5, 0.4, 0.6, 0.45, 0.65, 0.6, 0.45, 0.35, 0.35, 0.5, 0.55, 0.3, 0.45, 0.6, 0.45, 0.4, 0.65, 0.5, 0.45, 0.45, 0.45, 0.55, 0.5, 0.45, 0.5, 0.5, 0.65, 0.6, 0.55, 0.35, 0.55, 0.65, 0.55, 0.6]\n"
     ]
    },
    {
     "data": {
      "text/plain": [
       "[]"
      ]
     },
     "execution_count": 18,
     "metadata": {},
     "output_type": "execute_result"
    },
    {
     "data": {
      "image/png": "[encoded data removed]",
      "text/plain": [
       "<Figure size 432x288 with 1 Axes>"
      ]
     },
     "metadata": {
      "needs_background": "light"
     },
     "output_type": "display_data"
    }
   ],
   "source": [
    "accuracies = []\n",
    "for j in range(100):\n",
    "    pred = []\n",
    "    val_labels = []\n",
    "    for i in range(20):\n",
    "        validate_x, validate_label = generate_data(1, dimension, labels)\n",
    "        prediction = get_prediction(validate_x)\n",
    "        pred.append(prediction)\n",
    "        val_labels.append(validate_label)\n",
    "    acc = accuracy_score(pred, val_labels)\n",
    "    accuracies.append(acc)\n",
    "\n",
    "print(accuracies)\n",
    "plt.hist(accuracies) \n",
    "plt.plot()\n",
    "#Is there any sense in the random generated datasets+labels?"
   ]
  },
  {
   "cell_type": "code",
   "execution_count": null,
   "metadata": {},
   "outputs": [],
   "source": []
  }
 ],
 "metadata": {
  "kernelspec": {
   "display_name": "Python 3",
   "language": "python",
   "name": "python3"
  },
  "language_info": {
   "codemirror_mode": {
    "name": "ipython",
    "version": 3
   },
   "file_extension": ".py",
   "mimetype": "text/x-python",
   "name": "python",
   "nbconvert_exporter": "python",
   "pygments_lexer": "ipython3",
   "version": "3.6.7"
  }
 },
 "nbformat": 4,
 "nbformat_minor": 2
}
