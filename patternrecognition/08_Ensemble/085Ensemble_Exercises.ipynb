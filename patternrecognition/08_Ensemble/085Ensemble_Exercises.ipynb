{
 "cells": [
  {
   "cell_type": "markdown",
   "metadata": {},
   "source": [
    "# Ensemble methods. Exercises\n",
    "\n",
    "\n",
    "In this section we have only one exercise:\n",
    "\n",
    "1. Find the best three classifier in the stacking method using the classifiers from scikit-learn package, such as:\n",
    "\n",
    "\n",
    "* Linear regression,\n",
    "* Nearest Neighbors,\n",
    "* Linear SVM,\n",
    "* Decision Tree,\n",
    "* Naive Bayes,\n",
    "* QDA."
   ]
  },
  {
   "cell_type": "code",
   "execution_count": 176,
   "metadata": {},
   "outputs": [],
   "source": [
    "%store -r data_set\n",
    "%store -r labels\n",
    "%store -r test_data_set\n",
    "%store -r test_labels\n",
    "%store -r unique_labels"
   ]
  },
  {
   "cell_type": "markdown",
   "metadata": {},
   "source": [
    "## Exercise 1: Find the best three classifier in the stacking method"
   ]
  },
  {
   "cell_type": "code",
   "execution_count": 177,
   "metadata": {},
   "outputs": [],
   "source": [
    "import numpy as np\n",
    "from sklearn.metrics import accuracy_score\n",
    "\n",
    "from sklearn.linear_model import LinearRegression\n",
    "from sklearn.neighbors import KNeighborsClassifier\n",
    "from sklearn.svm import SVC\n",
    "from sklearn.tree import DecisionTreeClassifier\n",
    "from sklearn.naive_bayes import GaussianNB\n",
    "from sklearn.discriminant_analysis import QuadraticDiscriminantAnalysis"
   ]
  },
  {
   "cell_type": "code",
   "execution_count": 178,
   "metadata": {},
   "outputs": [],
   "source": [
    "used_cl_list = [KNeighborsClassifier, DecisionTreeClassifier, GaussianNB, QuadraticDiscriminantAnalysis, SVC]\n",
    "def build_classifiers():\n",
    "    classifiers = []\n",
    "    classifiers.append(KNeighborsClassifier())\n",
    "    classifiers.append(DecisionTreeClassifier())\n",
    "    classifiers.append(GaussianNB())\n",
    "    classifiers.append(QuadraticDiscriminantAnalysis())\n",
    "    classifiers.append(SVC(gamma='auto'))\n",
    "    classifiers.append(LinearRegression())\n",
    "    return classifiers\n",
    "    #return [classifier() for classifier in used_cl_list]"
   ]
  },
  {
   "cell_type": "code",
   "execution_count": 183,
   "metadata": {},
   "outputs": [],
   "source": [
    "def build_stacked_classifier(classifiers, st_cl):\n",
    "    output = []\n",
    "    fitted_classifiers = [cl.fit(data_set, labels) for cl in classifiers]\n",
    "    for classifier in fitted_classifiers:\n",
    "        output.append(classifier.predict(data_set))\n",
    "    output = np.array(output).reshape((130,len(classifiers)))\n",
    "    \n",
    "    stacked_classifier = st_cl\n",
    "    stacked_classifier.fit(output.reshape((130,len(classifiers))), labels.reshape((130,)))\n",
    "    test_set = []\n",
    "    for classifier in fitted_classifiers:\n",
    "        test_set.append(classifier.predict(test_data_set))\n",
    "    test_set = np.array(test_set).reshape((len(test_set[0]),len(classifiers)))\n",
    "    predicted = stacked_classifier.predict(test_set)\n",
    "    print('stacked classifier name: ', st_cl.__class__.__name__)\n",
    "    print('predicted:\\n', predicted, '\\n')\n",
    "    return predicted"
   ]
  },
  {
   "cell_type": "code",
   "execution_count": 184,
   "metadata": {},
   "outputs": [
    {
     "name": "stdout",
     "output_type": "stream",
     "text": [
      "stacked classifier name:  KNeighborsClassifier\n",
      "predicted:\n",
      " [0 2 0 0 2 0 0 0 2 0 0 0 2 2 0 0 2 2 0 2] \n",
      "\n",
      "stacked classifier name:  DecisionTreeClassifier\n",
      "predicted:\n",
      " [1 1 1 1 0 1 1 1 1 1 1 1 1 1 1 1 2 2 2 2] \n",
      "\n",
      "stacked classifier name:  GaussianNB\n",
      "predicted:\n",
      " [2 2 2 2 2 2 2 2 2 2 2 2 2 2 2 2 2 2 2 2] \n",
      "\n",
      "stacked classifier name:  QuadraticDiscriminantAnalysis\n",
      "predicted:\n",
      " [0 0 0 0 2 2 0 0 2 0 0 0 2 2 0 0 2 1 2 1] \n",
      "\n",
      "accuracies_list ->  [0.4, 0.2, 1.0, 0.35]\n"
     ]
    }
   ],
   "source": [
    "predicted = []\n",
    "for cl_idx in range(len(used_cl_list) -1):\n",
    "    classifiers = build_classifiers()\n",
    "    plain_classifiers = [classifiers[plain_cl_idx] for plain_cl_idx in range(len(classifiers)) if cl_idx != plain_cl_idx]\n",
    "    predicted.append(build_stacked_classifier(plain_classifiers, classifiers[cl_idx]))\n",
    "\n",
    "accuracy = accuracy_score(test_labels, predicted[0])\n",
    "accuracies_list = [accuracy_score(test_labels, prediction) for prediction in predicted]\n",
    "print( 'accuracies_list -> ', accuracies_list )"
   ]
  },
  {
   "cell_type": "code",
   "execution_count": null,
   "metadata": {},
   "outputs": [],
   "source": []
  }
 ],
 "metadata": {
  "kernelspec": {
   "display_name": "Python 3",
   "language": "python",
   "name": "python3"
  },
  "language_info": {
   "codemirror_mode": {
    "name": "ipython",
    "version": 3
   },
   "file_extension": ".py",
   "mimetype": "text/x-python",
   "name": "python",
   "nbconvert_exporter": "python",
   "pygments_lexer": "ipython3",
   "version": "3.7.3"
  }
 },
 "nbformat": 4,
 "nbformat_minor": 2
}
